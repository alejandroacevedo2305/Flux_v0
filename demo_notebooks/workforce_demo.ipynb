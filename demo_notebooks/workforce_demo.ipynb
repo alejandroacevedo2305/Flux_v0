{
 "cells": [
  {
   "cell_type": "markdown",
   "metadata": {},
   "source": [
    "Este cuaderno es una demo del modulo _Simulador_ y el modulo de optizacion (_Workforce_), que usa este para computar una estrategia optima. \n",
    "\n",
    "# Simulador (noviembre 2023)\n",
    "## para simulación: Clase ``MisEscritorios_v03`` y funcion ``simulador_v04``\n",
    "## In progress: para optuna: Clase ``MisEscritorios_v02`` y funcion ``optuna_simular_v02``\n",
    "\n",
    "- `MisEscritorios_v03` contiene todo lo respectivo a planificación. \n",
    "- `simulador_v04` es la función que corre una simulación, generando una tabla de atenciones. \n"
   ]
  },
  {
   "cell_type": "markdown",
   "metadata": {},
   "source": [
    "## Simulación con Clase ``MisEscritorios_v03`` y funcion ``simulador_v04``"
   ]
  },
  {
   "cell_type": "code",
   "execution_count": 3,
   "metadata": {},
   "outputs": [
    {
     "data": {
      "text/plain": [
       "(651, 8)"
      ]
     },
     "execution_count": 3,
     "metadata": {},
     "output_type": "execute_result"
    }
   ],
   "source": [
    "import numpy as np\n",
    "from datetime import datetime\n",
    "from dev.atributos_de_series import atributos_x_serie\n",
    "from src.datos_utils import DatasetTTP, obtener_skills\n",
    "import random\n",
    "\n",
    "from src.optuna_utils import (\n",
    "    sla_x_serie, \n",
    "    calculate_geometric_mean, \n",
    "    extract_skills_length, \n",
    "    extract_min_value_keys, \n",
    "    extract_max_value_keys, \n",
    "    non_empty_subsets, \n",
    "    get_random_non_empty_subset, \n",
    "    get_time_intervals,\n",
    "    partition_dataframe_by_time_intervals,  \n",
    "    plan_unico\n",
    "    )\n",
    "\n",
    "from src.simulador_v02 import (\n",
    "    one_cycle_iterator,\n",
    "    create_multiindex_df,\n",
    "    generate_integer, \n",
    "    actualizar_conexiones,\n",
    "    generador_emisiones,\n",
    "    timestamp_iterator,\n",
    "    terminar_un_tramo,\n",
    "    iniciar_un_tramo,\n",
    "    update_escritorio,\n",
    "    separar_por_conexion,\n",
    "    poner_pasos_alternancia,\n",
    "    pasos_alternancia,\n",
    "    mismo_minuto,\n",
    "    balancear_carga_escritorios,\n",
    "    extract_highest_priority_and_earliest_time_row,\n",
    "    remove_selected_row,\n",
    "    FIFO\n",
    "    ) \n",
    "import pandas as pd\n",
    "\n",
    "from datetime import timedelta\n",
    "from dev.atributos_de_series import atributos_x_serie\n",
    "from dev.pasos_alternancia_y_prioridades_x_escri import (\n",
    "    generar_pasos_para_alternancia_v02, \n",
    "    pasos_alternancia_v02,\n",
    "    poner_pasos_alternancia_v02,\n",
    "    MisEscritorios_v03,        \n",
    ")\n",
    "\n",
    "from dev.simv04 import (\n",
    "    reloj_rango_horario, \n",
    "    match_emisiones_reloj, \n",
    "    simulador_v04)\n",
    "\n",
    "dataset = DatasetTTP.desde_csv_atenciones(\"data/fonasa_monjitas.csv.gz\")\n",
    "un_dia = dataset.un_dia(\"2023-05-15\").sort_values(by='FH_Emi', inplace=False)\n",
    "skills   = obtener_skills(un_dia)\n",
    "series   = sorted(list({val for sublist in skills.values() for val in sublist}))\n",
    "modos    = ['FIFO']#['Rebalse','Alternancia', 'Rebalse']\n",
    "atributos_series = atributos_x_serie(ids_series=series, \n",
    "                                    sla_porcen_user=None, \n",
    "                                    sla_corte_user=None, \n",
    "                                    pasos_user=None, \n",
    "                                    prioridades_user=None)\n",
    "\n",
    "niveles_servicio_x_serie = {atr_dict['serie']:\n",
    "                            (atr_dict['sla_porcen']/100, atr_dict['sla_corte']/60) \n",
    "                            for atr_dict in atributos_series}\n",
    "\n",
    "prioridades =       {atr_dict['serie']:\n",
    "                        atr_dict['prioridad']\n",
    "                        for atr_dict in atributos_series}   \n",
    "\n",
    "\n",
    "planificacion = {'0': [{'inicio': '08:00:11',\n",
    "    'termino': None,\n",
    "    'propiedades': {'skills' : get_random_non_empty_subset(series),\n",
    "        'configuracion_atencion': random.sample(modos, 1)[0],\n",
    "        'porcentaje_actividad'  : np.random.randint(85, 90)/100,\n",
    "            'atributos_series':atributos_series,\n",
    "            \n",
    "        }}],\n",
    "    '1': [{'inicio': '08:00:11',\n",
    "    'termino': None,\n",
    "    'propiedades': {'skills': get_random_non_empty_subset(series),\n",
    "        'configuracion_atencion': random.sample(modos, 1)[0],\n",
    "        'porcentaje_actividad'  : np.random.randint(85, 90)/100,\n",
    "            'atributos_series':atributos_series,\n",
    "\n",
    "        }}],\n",
    "    '12': [{'inicio': '08:00:11',\n",
    "    'termino': None,\n",
    "    'propiedades': {'skills': get_random_non_empty_subset(series),\n",
    "        'configuracion_atencion': random.sample(modos, 1)[0],\n",
    "        'porcentaje_actividad'  : np.random.randint(85, 90)/100,\n",
    "            'atributos_series':atributos_series,\n",
    "\n",
    "        }}],\n",
    "    '33': [{'inicio': '08:00:03',\n",
    "    'termino': None,\n",
    "    'propiedades': {'skills': get_random_non_empty_subset(series),\n",
    "        'configuracion_atencion': random.sample(modos, 1)[0],\n",
    "        'porcentaje_actividad'  : np.random.randint(85, 90)/100,\n",
    "            'atributos_series':atributos_series,\n",
    "\n",
    "        }}],\n",
    "    '34': [{'inicio': '08:00:03',\n",
    "    'termino': None,\n",
    "    'propiedades': {'skills': get_random_non_empty_subset(series),\n",
    "        'configuracion_atencion': random.sample(modos, 1)[0],\n",
    "        'porcentaje_actividad'  : np.random.randint(85, 90)/100,\n",
    "            'atributos_series':atributos_series,\n",
    "\n",
    "        }}],\n",
    "    '35': [{'inicio': '08:00:03',\n",
    "    'termino': None,\n",
    "    'propiedades': {'skills': get_random_non_empty_subset(series),\n",
    "        'configuracion_atencion': random.sample(modos, 1)[0],\n",
    "        'porcentaje_actividad'  : np.random.randint(85, 90)/100,\n",
    "            'atributos_series':atributos_series,\n",
    "\n",
    "        }}],\n",
    "    '49': [{'inicio': '08:00:56',\n",
    "    'termino': None,\n",
    "    'propiedades': {'skills': get_random_non_empty_subset(series), \n",
    "        'configuracion_atencion':random.sample(modos, 1)[0],\n",
    "        'porcentaje_actividad'  : np.random.randint(85, 90)/100,\n",
    "            'atributos_series':atributos_series,\n",
    "\n",
    "        }}],\n",
    "    '50': [{'inicio': '08:00:56',\n",
    "    'termino': None,\n",
    "    'propiedades': {'skills': get_random_non_empty_subset(series),\n",
    "        'configuracion_atencion': random.sample(modos, 1)[0],\n",
    "        'porcentaje_actividad'  : np.random.randint(85, 90)/100,\n",
    "            'atributos_series':atributos_series,\n",
    "\n",
    "        }}],\n",
    "    '51': [{'inicio': '08:00:56',\n",
    "    'termino': None,\n",
    "    'propiedades': {'skills':get_random_non_empty_subset(series),\n",
    "        'configuracion_atencion': random.sample(modos, 1)[0],\n",
    "        'porcentaje_actividad'  : np.random.randint(85, 90)/100,\n",
    "        'atributos_series':atributos_series,\n",
    "        }}]}\n",
    "\n",
    "hora_cierre               = '20:00:00'\n",
    "registros_atenciones, fila = simulador_v04(un_dia, planificacion, niveles_servicio_x_serie, hora_cierre)\n",
    "\n",
    "len(registros_atenciones) , len(fila)"
   ]
  },
  {
   "cell_type": "markdown",
   "metadata": {},
   "source": [
    "## IN PROGRESS : OPTUNA con Clase ``MisEscritorios_v02`` y funcion ``optuna_simular_v02``"
   ]
  },
  {
   "cell_type": "markdown",
   "metadata": {},
   "source": [
    "# Objetivos optuna (broken)"
   ]
  },
  {
   "cell_type": "code",
   "execution_count": 29,
   "metadata": {},
   "outputs": [
    {
     "name": "stderr",
     "output_type": "stream",
     "text": [
      "[I 2023-10-30 19:29:12,275] Using an existing study with name 'tramo_0' instead of creating a new one.\n",
      "[I 2023-10-30 19:29:13,751] Trial 34 finished with values: (10084.132231404958,) with parameters: {'escritorio_0': True, 'escritorio_1': True, 'escritorio_2': False, 'escritorio_3': False, 'escritorio_4': True, '0': 'Alternancia', '1': 'FIFO', '2': 'Rebalse', '3': 'FIFO', '4': 'Rebalse', 'ids_0': 13, 'ids_1': 57, 'ids_2': 19, 'ids_3': 13, 'ids_4': 4}.\n",
      "[I 2023-10-30 19:29:13,830] Using an existing study with name 'tramo_1' instead of creating a new one.\n"
     ]
    },
    {
     "name": "stdout",
     "output_type": "stream",
     "text": [
      "SLA + escritorios + skills ((10084.132231404958, 90.19575253924302, 68.48148148148151, 13.444444444444583, 5.621107266435958, 312.11111111111126), (3,), (8,))\n"
     ]
    },
    {
     "name": "stderr",
     "output_type": "stream",
     "text": [
      "[I 2023-10-30 19:29:13,959] Trial 34 pruned. \n",
      "[I 2023-10-30 19:29:14,035] Using an existing study with name 'tramo_2' instead of creating a new one.\n"
     ]
    },
    {
     "name": "stdout",
     "output_type": "stream",
     "text": [
      "An exception occurred: No cumple con minimo_escritorios: 2.\n"
     ]
    },
    {
     "name": "stderr",
     "output_type": "stream",
     "text": [
      "[I 2023-10-30 19:29:16,398] Trial 34 finished with values: (5902.066326530613,) with parameters: {'escritorio_0': True, 'escritorio_1': True, 'escritorio_2': True, 'escritorio_3': True, 'escritorio_4': False, '0': 'Alternancia', '1': 'Rebalse', '2': 'Rebalse', '3': 'Alternancia', '4': 'FIFO', 'ids_0': 0, 'ids_1': 51, 'ids_2': 16, 'ids_3': 17, 'ids_4': 35}.\n",
      "[I 2023-10-30 19:29:16,478] Using an existing study with name 'tramo_3' instead of creating a new one.\n"
     ]
    },
    {
     "name": "stdout",
     "output_type": "stream",
     "text": [
      "SLA + escritorios + skills ((5902.066326530613, 2692.01652892562, 867.0, 12769.0, 928.8674648183153, 513.7777777777777), (4,), (9,))\n"
     ]
    },
    {
     "name": "stderr",
     "output_type": "stream",
     "text": [
      "[I 2023-10-30 19:29:17,662] Trial 34 finished with values: (980.0,) with parameters: {'escritorio_0': False, 'escritorio_1': True, 'escritorio_2': True, 'escritorio_3': False, 'escritorio_4': True, '0': 'FIFO', '1': 'Alternancia', '2': 'FIFO', '3': 'Rebalse', '4': 'FIFO', 'ids_0': 52, 'ids_1': 52, 'ids_2': 52, 'ids_3': 47, 'ids_4': 0}.\n"
     ]
    },
    {
     "name": "stdout",
     "output_type": "stream",
     "text": [
      "SLA + escritorios + skills ((980.0, 350.810529537802, 13467.0, 7744.0, 10658.0, 2601.0), (3,), (9,))\n"
     ]
    }
   ],
   "source": [
    "\n",
    "import optuna\n",
    "import numpy as np\n",
    "dataset = DatasetTTP.desde_csv_atenciones(\"data/fonasa_monjitas.csv.gz\")\n",
    "un_dia = dataset.un_dia(\"2023-05-15\").sort_values(by='FH_Emi', inplace=False)\n",
    "skills   = obtener_skills(un_dia)\n",
    "series   = sorted(list({val for sublist in skills.values() for val in sublist}))\n",
    "modos    = ['Rebalse','Alternancia', 'Rebalse']\n",
    "atributos_series = atributos_x_serie(ids_series=series, \n",
    "                                    sla_porcen_user=None, \n",
    "                                    sla_corte_user=None, \n",
    "                                    pasos_user=None, \n",
    "                                    prioridades_user=None)\n",
    "\n",
    "niveles_servicio_x_serie = {atr_dict['serie']:\n",
    "                           (atr_dict['sla_porcen']/100, atr_dict['sla_corte']/60) \n",
    "                           for atr_dict in atributos_series}\n",
    "\n",
    "prioridades =       {atr_dict['serie']:\n",
    "                    atr_dict['prioridad']\n",
    "                    for atr_dict in atributos_series}\n",
    "\n",
    "def objective(trial, \n",
    "    optimizar: str, \n",
    "    un_dia : pd.DataFrame,  # IdOficina  IdSerie  IdEsc, FH_Emi, FH_Llama  -- Deberia llamarse 'un_tramo'\n",
    "    subsets, # [(5,), (10,), (11,), (12,), (14,), (17,), (5, 10), (5, 11), (5, 12), (5, 14), (5, 17), (10, 11),  <...> 14, 17), (5, 10, 12, 14, 17), (5, 11, 12, 14, 17), (10, 11, 12, 14, 17), (5, 10, 11, 12, 14, 17)]\n",
    "    niveles_servicio_x_serie,  # {5: (0.34, 35), 10: (0.34, 35), 11: (0.7, 45), 12: (0.34, 35), 14: (0.34, 35), 17: (0.6, 30)}\n",
    "    prioridades:dict,\n",
    "    modos_atenciones : list = [\"Alternancia\", \"FIFO\", \"Rebalse\"],\n",
    "    minimo_escritorios: int = 2,\n",
    "    maximo_escritorios: int = 5,\n",
    "    ):    \n",
    "    try:\n",
    "\n",
    "        bool_vector              = [trial.suggest_categorical(f'escritorio_{i}', [True, False]) for i in range(maximo_escritorios)]\n",
    "        #Restricción de minimo de escritorios\n",
    "        assert sum(bool_vector) >= minimo_escritorios, f\"No cumple con minimo_escritorios: {minimo_escritorios}.\"\n",
    "        \n",
    "        str_dict                 = {i: trial.suggest_categorical(f'{i}',         modos_atenciones) for i in range(maximo_escritorios)} \n",
    "        subset_idx               = {i: trial.suggest_int(f'ids_{i}', 0, len(subsets) - 1) for i in range(maximo_escritorios)}   \n",
    "        #prioridades              =  prioridad_x_serie(niveles_servicio_x_serie, 2, 1) \n",
    "        planificacion            =  {} # Arma una planificacion con espacios parametricos. \n",
    "        inicio                   =  str(un_dia.FH_Emi.min().time())#'08:33:00'\n",
    "        termino                  =  str(un_dia.FH_Emi.max().time())#'14:33:00'\n",
    "        #porcentaje_actividad     =  np.random.randint(75, 90)/100\n",
    "        for key in str_dict.keys():\n",
    "            if bool_vector[key]:\n",
    "                inner_dict = {\n",
    "                    'inicio': inicio,\n",
    "                    'termino': termino,\n",
    "                    'propiedades': {\n",
    "                        'skills':list(subsets[subset_idx[key]]), # Set -> Lista, para el subset 'subset_idx', para el escritorio 'key'\n",
    "                        'configuracion_atencion': str_dict[key], # \n",
    "                    }\n",
    "                }\n",
    "                planificacion[str(key)] = [inner_dict] # NOTE: Es una lista why -- Config por trial por tramo del escritorio \n",
    "\n",
    "        trial.set_user_attr('planificacion', planificacion) # This' actually cool \n",
    "        registros_atenciones, l_fila    =  optuna_simular_v02(planificacion, niveles_servicio_x_serie, un_dia, prioridades, tipo_inactividad = \"historica\") \n",
    "        registros_atenciones['IdSerie'] = registros_atenciones['IdSerie'].astype(int) \n",
    "        registros_x_serie               = [registros_atenciones[registros_atenciones.IdSerie==s] for s in series]\n",
    "        \n",
    "        \n",
    "        pocentajes_SLA        = [int(100*v[0])for k,v in niveles_servicio_x_serie.items()]\n",
    "        mins_de_corte_SLA     = [int(v[1])for k,v in niveles_servicio_x_serie.items()]        \n",
    "        df_pairs              = [(sla_x_serie(r_x_s, '1H', corte = corte, factor_conversion_T_esp=1), s) \n",
    "                                    for r_x_s, s, corte in zip(registros_x_serie, series, mins_de_corte_SLA)]\n",
    "        porcentajes_reales    = {f\"serie: {serie}\": np.mean(esperas.espera) for ((demandas, esperas), serie) in df_pairs} \n",
    "        dif_cuadratica        = {k:(v-p)**2 for ((k,v),p) in zip(porcentajes_reales.items(),pocentajes_SLA)}\n",
    "        #Objetivos:    \n",
    "        #La mayor prioridad es el entero más chico    \n",
    "        maximizar_SLAs        = tuple(np.array(tuple(prioridades.values()))*np.array(tuple(dif_cuadratica.values())))#Ponderado por prioridad\n",
    "        minimizar_escritorios = (sum(bool_vector),)\n",
    "        minimizar_skills      = (extract_skills_length(planificacion),)\n",
    "        \n",
    "        if optimizar == \"SLA\":\n",
    "            \n",
    "            print(f\"maximizar_SLAs {maximizar_SLAs}\")\n",
    "            return  maximizar_SLAs\n",
    "        \n",
    "        elif optimizar == \"SLA + escritorios\":\n",
    "            \n",
    "            print(f\"maximizar_SLAs y minimizar_escritorios {maximizar_SLAs, minimizar_escritorios}\")\n",
    "            return  maximizar_SLAs + minimizar_escritorios\n",
    "        \n",
    "        elif optimizar == \"SLA + skills\":\n",
    "            \n",
    "            print(f\"maximizar_SLAs y minimizar_skills {maximizar_SLAs, minimizar_skills}\")\n",
    "            return  maximizar_SLAs + minimizar_skills\n",
    "        \n",
    "        elif optimizar == \"SLA + escritorios + skills\":\n",
    "            \n",
    "            print(f\"SLA + escritorios + skills {maximizar_SLAs, minimizar_escritorios, minimizar_skills}\")\n",
    "            return  maximizar_SLAs + minimizar_escritorios + minimizar_skills           \n",
    "        \n",
    "    except Exception as e:\n",
    "        print(f\"An exception occurred: {e}\")\n",
    "        raise optuna.TrialPruned()\n",
    "    \n",
    "#Si hay porcentaje_actividad no hay pausas  \n",
    "#n es el numero de intervalos (equidistantes) de tiempo   \n",
    "intervals  = get_time_intervals(un_dia, n = 4, porcentaje_actividad = .9) # Una funcion que recibe un dia, un intervalo, y un porcentaje de actividad para todos los intervalos\n",
    "partitions = partition_dataframe_by_time_intervals(un_dia, intervals) # TODO: implementar como un static del simulador? \n",
    "optimizar  = \"SLA + escritorios + skills\" #\"SLA\" | \"SLA + escritorios\" | \"SLA + skills\" | \"SLA + escritorios + skills\"\n",
    "n_objs = int(\n",
    "            len(series)\n",
    "            if optimizar == \"SLA\"\n",
    "            else len(series) + 1\n",
    "            if optimizar in {\"SLA + escritorios\", \"SLA + skills\"}\n",
    "            else len(series) + 2\n",
    "            if optimizar == \"SLA + escritorios + skills\"\n",
    "            else None\n",
    "        )\n",
    "n_trials   = 1\n",
    "#%%\n",
    "storage = optuna.storages.get_storage(\"sqlite:///alejandro_objs_v3.db\")\n",
    "subsets = non_empty_subsets(sorted(list({val for sublist in skills.values() for val in sublist})))\n",
    "\n",
    "for idx, part in enumerate(partitions):\n",
    "    study_name = f\"tramo_{idx}\"\n",
    "    study = optuna.multi_objective.create_study(directions= n_objs*['minimize'],\n",
    "                                                study_name=study_name,\n",
    "                                                storage=storage, load_if_exists=True)\n",
    "    # TODO: sacar fuera\n",
    "    # Optimize with a timeout (in seconds)\n",
    "    study.optimize(lambda trial: objective(trial,\n",
    "                                           optimizar                = optimizar,\n",
    "                                           un_dia                   = part,\n",
    "                                           subsets                  = subsets,\n",
    "                                           niveles_servicio_x_serie = niveles_servicio_x_serie,\n",
    "                                           prioridades              = prioridades,\n",
    "                                           minimo_escritorios       = 2,\n",
    "                                           maximo_escritorios       = 5\n",
    "                                           ),\n",
    "                   n_trials  = n_trials, #int(1e4),  # Make sure this is an integer\n",
    "                   timeout   = 2*3600,   #  hours\n",
    "                   )  # \n"
   ]
  },
  {
   "cell_type": "code",
   "execution_count": 30,
   "metadata": {},
   "outputs": [
    {
     "data": {
      "text/plain": [
       "{'2': [{'inicio': '13:02:56',\n",
       "   'termino': '14:30:23',\n",
       "   'propiedades': {'skills': [10, 14], 'configuracion_atencion': 'FIFO'}}],\n",
       " '3': [{'inicio': '13:02:56',\n",
       "   'termino': '14:30:23',\n",
       "   'propiedades': {'skills': [5, 10, 14, 17],\n",
       "    'configuracion_atencion': 'Alternancia'}}],\n",
       " '4': [{'inicio': '13:02:56',\n",
       "   'termino': '14:30:23',\n",
       "   'propiedades': {'skills': [5, 11, 17], 'configuracion_atencion': 'FIFO'}}],\n",
       " '7': [{'inicio': '13:02:56',\n",
       "   'termino': '14:30:23',\n",
       "   'propiedades': {'skills': [12, 17],\n",
       "    'configuracion_atencion': 'Alternancia'}}],\n",
       " '11': [{'inicio': '13:02:56',\n",
       "   'termino': '14:30:23',\n",
       "   'propiedades': {'skills': [5, 11, 12, 17],\n",
       "    'configuracion_atencion': 'Rebalse'}}],\n",
       " '12': [{'inicio': '13:02:56',\n",
       "   'termino': '14:30:23',\n",
       "   'propiedades': {'skills': [10, 11, 12],\n",
       "    'configuracion_atencion': 'Rebalse'}}]}"
      ]
     },
     "execution_count": 30,
     "metadata": {},
     "output_type": "execute_result"
    }
   ],
   "source": [
    "study.get_trials()[0].user_attrs.get('planificacion')"
   ]
  },
  {
   "cell_type": "markdown",
   "metadata": {},
   "source": [
    "## Extracción de la planificación óptima"
   ]
  },
  {
   "cell_type": "code",
   "execution_count": 31,
   "metadata": {},
   "outputs": [],
   "source": [
    "recomendaciones_db   = optuna.storages.get_storage(\"sqlite:///alejandro_objs_v3.db\") # Objetivos de 6-salidas\n",
    "resumenes            = optuna.study.get_all_study_summaries(recomendaciones_db)\n",
    "nombres              = [s.study_name for s in resumenes if \"tramo_\" in s.study_name]\n",
    "\n",
    "scores_studios = {}\n",
    "for un_nombre in nombres:\n",
    "    un_estudio            = optuna.multi_objective.load_study(study_name=un_nombre, storage=recomendaciones_db)\n",
    "    trials_de_un_estudio  = un_estudio.get_trials(deepcopy=False) #or pareto trials??\n",
    "    scores_studios        = scores_studios | {f\"{un_nombre}\":\n",
    "        { trial.number: np.mean([x for x in trial.values if x is not None]) \n",
    "                for\n",
    "                    trial in trials_de_un_estudio if trial.state == optuna.trial.TrialState.COMPLETE}\n",
    "                    } \n",
    "trials_optimos          = extract_min_value_keys(scores_studios) # Para cada tramo, extrae el maximo, \n",
    "planificaciones_optimas = {}   \n",
    "for k,v in trials_optimos.items():\n",
    "    un_estudio               = optuna.multi_objective.load_study(study_name=k, storage=recomendaciones_db)\n",
    "    trials_de_un_estudio     = un_estudio.get_trials(deepcopy=False)\n",
    "    planificaciones_optimas  = planificaciones_optimas | {f\"{k}\":\n",
    "        trial.user_attrs.get('planificacion')#calcular_optimo(trial.values)\n",
    "                for\n",
    "                    trial in trials_de_un_estudio if trial.number == v[0]\n",
    "                    }   \n",
    "\n",
    "planificacion_optima                =  plan_unico([plan for tramo,plan in planificaciones_optimas.items()])\n"
   ]
  },
  {
   "cell_type": "markdown",
   "metadata": {},
   "source": [
    "### simulación con planificación óptima"
   ]
  },
  {
   "cell_type": "code",
   "execution_count": 83,
   "metadata": {},
   "outputs": [],
   "source": [
    "\n",
    "def ghost_client(un_dia, slack_seconds=7200):\n",
    "    \n",
    "    un_dia.sort_values(by='FH_Emi', inplace=True)\n",
    "    un_dia.reset_index(drop=True, inplace=True)\n",
    "    last_row = un_dia.iloc[-1].copy()\n",
    "    # Modify datetime64[s] columns by adding 2 hours (7200 seconds)\n",
    "    datetime_columns = ['FH_Emi', 'FH_Llama', 'FH_AteIni', 'FH_AteFin']\n",
    "    for col in datetime_columns:\n",
    "        last_row[col] += pd.Timedelta(seconds=slack_seconds)  # 2 hours = 7200 seconds\n",
    "\n",
    "    return pd.concat([un_dia, pd.DataFrame(last_row).T], axis=0, ignore_index=True)\n",
    "\n"
   ]
  },
  {
   "cell_type": "code",
   "execution_count": 81,
   "metadata": {},
   "outputs": [],
   "source": [
    "registros_atenciones_optima, l_fila_optima =  optuna_simular_v02(planificacion_optima, niveles_servicio_x_serie, un_dia_con_ghost_client, prioridades, tipo_inactividad = \"historica\") "
   ]
  },
  {
   "cell_type": "code",
   "execution_count": 82,
   "metadata": {},
   "outputs": [
    {
     "data": {
      "text/plain": [
       "(                  FH_Emi IdSerie espera IdEsc T_Ate\n",
       " 0    2023-05-15 08:40:11      12      9     7    96\n",
       " 1    2023-05-15 08:40:54      14      9    10   157\n",
       " 2    2023-05-15 08:41:07      14      9    12   458\n",
       " 3    2023-05-15 08:41:18      14      8    11   861\n",
       " 4    2023-05-15 08:41:27      14      8    10   381\n",
       " ..                   ...     ...    ...   ...   ...\n",
       " 655  2023-05-15 14:13:23      10    137   NaN   NaN\n",
       " 656  2023-05-15 14:14:26      12    136   NaN   NaN\n",
       " 657  2023-05-15 14:18:32      10    132   NaN   NaN\n",
       " 658  2023-05-15 14:30:23      17    120   NaN   NaN\n",
       " 659  2023-05-15 16:30:23      17      0   NaN   NaN\n",
       " \n",
       " [660 rows x 5 columns],\n",
       " 343)"
      ]
     },
     "execution_count": 82,
     "metadata": {},
     "output_type": "execute_result"
    }
   ],
   "source": [
    "registros_atenciones_optima, l_fila_optima"
   ]
  },
  {
   "cell_type": "code",
   "execution_count": 36,
   "metadata": {},
   "outputs": [
    {
     "name": "stdout",
     "output_type": "stream",
     "text": [
      "<class 'pandas.core.series.Series'>\n",
      "RangeIndex: 659 entries, 0 to 658\n",
      "Series name: IdEsc\n",
      "Non-Null Count  Dtype \n",
      "--------------  ----- \n",
      "331 non-null    object\n",
      "dtypes: object(1)\n",
      "memory usage: 5.3+ KB\n"
     ]
    }
   ],
   "source": [
    "registros_atenciones_optima[\"IdEsc\"].info()"
   ]
  }
 ],
 "metadata": {
  "kernelspec": {
   "display_name": "flux",
   "language": "python",
   "name": "python3"
  },
  "language_info": {
   "codemirror_mode": {
    "name": "ipython",
    "version": 3
   },
   "file_extension": ".py",
   "mimetype": "text/x-python",
   "name": "python",
   "nbconvert_exporter": "python",
   "pygments_lexer": "ipython3",
   "version": "3.11.6"
  }
 },
 "nbformat": 4,
 "nbformat_minor": 2
}
